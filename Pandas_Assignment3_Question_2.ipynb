{
 "cells": [
  {
   "cell_type": "code",
   "execution_count": null,
   "id": "74851a50-d6d4-474b-a5f1-bdde979c2f75",
   "metadata": {},
   "outputs": [],
   "source": [
    "#2.\tImport both the attached files (student.csv and marks.csv) \n",
    "# in Jupyter notebook and perform following operations:"
   ]
  },
  {
   "cell_type": "code",
   "execution_count": null,
   "id": "25a26f97-964b-48b1-9916-9441fd02eb57",
   "metadata": {},
   "outputs": [],
   "source": []
  },
  {
   "cell_type": "code",
   "execution_count": 10,
   "id": "80f9b549-4989-4d74-927d-cbd725d2d473",
   "metadata": {},
   "outputs": [
    {
     "name": "stdout",
     "output_type": "stream",
     "text": [
      "     Student_id   Age  Gender      Grade Employed  Mark     City\n",
      "53           54  21.0  Female  1st Class       no   NaN      NaN\n",
      "228         229  20.0    Male  2nd Class       no   NaN      NaN\n",
      "49           50  20.0  Female  3rd Class      yes   NaN      NaN\n",
      "69           70  20.0    Male  1st Class       no   NaN      NaN\n",
      "299          71   NaN     NaN        NaN      NaN  85.0    Kochi\n",
      "259          30   NaN     NaN        NaN      NaN  81.0  Chennai\n",
      "7             8  21.0    Male  3rd Class      yes   NaN      NaN\n",
      "365         137   NaN     NaN        NaN      NaN  59.0  Chennai\n",
      "266          37   NaN     NaN        NaN      NaN  53.0     Pune\n",
      "140         141  21.0  Female  1st Class       no   NaN      NaN\n"
     ]
    }
   ],
   "source": [
    "# a) Combine both the dataframes into single dataframe\n",
    "# which will have all the records from both the tables.\n",
    "\n",
    "import pandas as pd\n",
    "# Define the file path\n",
    "student_file = r'E:\\IIT_GUWAHATI\\Pandas_Assignment\\Student.csv' \n",
    "s_df = pd.read_csv(student_file)\n",
    "marks_file = r'E:\\IIT_GUWAHATI\\Pandas_Assignment\\Marks.csv' \n",
    "m_df = pd.read_csv(marks_file)\n",
    "df = pd.concat([s_df, m_df], ignore_index=True)\n",
    "print(df.sample(10))\n"
   ]
  },
  {
   "cell_type": "code",
   "execution_count": null,
   "id": "fae3c49e-53b7-48e4-a1eb-62a22d44fae3",
   "metadata": {},
   "outputs": [],
   "source": []
  },
  {
   "cell_type": "code",
   "execution_count": 11,
   "id": "452be474-87d5-4da9-b222-eb5bcda239ed",
   "metadata": {},
   "outputs": [
    {
     "name": "stdout",
     "output_type": "stream",
     "text": [
      "Maximum marks by Gender wise\n",
      "Gender\n",
      "Female   NaN\n",
      "Male     NaN\n",
      "Name: Mark, dtype: float64\n",
      "Minimum maks by Gender wise\n",
      "Gender\n",
      "Female   NaN\n",
      "Male     NaN\n",
      "Name: Mark, dtype: float64\n"
     ]
    }
   ],
   "source": [
    "# b) Print the maximum and minimum marks Gender wise.\n",
    "print(\"Maximum marks by Gender wise\")\n",
    "max_g = df.groupby('Gender')['Mark'].max()\n",
    "print(max_g)\n",
    "\n",
    "print(\"Minimum maks by Gender wise\")\n",
    "min_g = df.groupby('Gender')['Mark'].min()\n",
    "print(min_g)"
   ]
  },
  {
   "cell_type": "code",
   "execution_count": null,
   "id": "2528d6ae-4ddb-41e6-b610-8fe9a5148920",
   "metadata": {},
   "outputs": [],
   "source": []
  },
  {
   "cell_type": "code",
   "execution_count": 13,
   "id": "baa46245-2418-410c-a0c4-3299fc6945c7",
   "metadata": {},
   "outputs": [
    {
     "name": "stdout",
     "output_type": "stream",
     "text": [
      "     Student_id  Mark\n",
      "232           1  95.0\n",
      "234           3  98.0\n",
      "235           4  75.0\n",
      "236           5  89.0\n",
      "241          12  90.0\n",
      "..          ...   ...\n",
      "450         222  74.0\n",
      "451         223  79.0\n",
      "453         225  72.0\n",
      "456         228  99.0\n",
      "459         231  97.0\n",
      "\n",
      "[137 rows x 2 columns]\n"
     ]
    }
   ],
   "source": [
    "# c) Print all the students IDs and their marks \n",
    "# who have scored more than the average marks of the class.\n",
    "avg = df['Mark'].mean()\n",
    "avg_df = df[df['Mark'] > avg]\n",
    "print(avg_df[['Student_id', 'Mark']])"
   ]
  },
  {
   "cell_type": "code",
   "execution_count": null,
   "id": "f67e7409-2dc9-4fc6-93d5-7048c3194e8c",
   "metadata": {},
   "outputs": [],
   "source": []
  },
  {
   "cell_type": "code",
   "execution_count": 16,
   "id": "be0a9852-a2f1-41a8-abf0-3e84fefffe0d",
   "metadata": {},
   "outputs": [
    {
     "name": "stdout",
     "output_type": "stream",
     "text": [
      "\n",
      " Data Frame who are Males and are Employed.\n",
      "     Student_id   Age Gender      Grade Employed  Mark City\n",
      "161         162  20.0   Male  2nd Class      yes   NaN  NaN\n",
      "12           13  19.0   Male  1st Class      yes   NaN  NaN\n",
      "41           42  19.0   Male  1st Class      yes   NaN  NaN\n",
      "76           77  21.0   Male  2nd Class      yes   NaN  NaN\n",
      "190         191  20.0   Male  2nd Class      yes   NaN  NaN\n",
      "192         193  21.0   Male  2nd Class      yes   NaN  NaN\n",
      "47           48  21.0   Male  2nd Class      yes   NaN  NaN\n",
      "123         124  21.0   Male  3rd Class      yes   NaN  NaN\n",
      "181         182  21.0   Male  3rd Class      yes   NaN  NaN\n",
      "92           93  20.0   Male  2nd Class      yes   NaN  NaN\n"
     ]
    }
   ],
   "source": [
    "# d) Print the dataframe who are Males and are Employed.\n",
    "r_df = df[(df['Gender'] == 'Male') & (df['Employed'] == 'yes')]\n",
    "print(\"\\n Data Frame who are Males and are Employed.\")\n",
    "print(r_df.sample(10))"
   ]
  },
  {
   "cell_type": "code",
   "execution_count": null,
   "id": "a8c4405a-7832-4c29-b138-2846fc2ccfe8",
   "metadata": {},
   "outputs": [],
   "source": []
  },
  {
   "cell_type": "code",
   "execution_count": 17,
   "id": "6d3c89ea-a9ef-4098-a39a-26b8cd4cfbaa",
   "metadata": {},
   "outputs": [
    {
     "name": "stdout",
     "output_type": "stream",
     "text": [
      "     Student_id   Age Gender      Grade Employed  Mark     City     IQ_level\n",
      "67           68  21.0   Male  1st Class       no   NaN      NaN         Weak\n",
      "256          27   NaN    NaN        NaN      NaN  45.0    Kochi         Weak\n",
      "326          98   NaN    NaN        NaN      NaN  44.0   Mumbai         Weak\n",
      "450         222   NaN    NaN        NaN      NaN  74.0    Kochi     Mediocre\n",
      "320          92   NaN    NaN        NaN      NaN  93.0     Pune  Intelligent\n",
      "390         162   NaN    NaN        NaN      NaN  79.0     Pune     Mediocre\n",
      "355         127   NaN    NaN        NaN      NaN  56.0     Pune     Mediocre\n",
      "377         149   NaN    NaN        NaN      NaN  77.0  Gwalior     Mediocre\n",
      "354         126   NaN    NaN        NaN      NaN  88.0   Mumbai  Intelligent\n",
      "222         223  19.0   Male  2nd Class       no   NaN      NaN         Weak\n"
     ]
    }
   ],
   "source": [
    " # e) Create a new Column ‘IQ_level’ which will have 3 values (Intelligent, Mediocre, weak).\n",
    " #  If student scored than 80 then Tag him as Intelligent, \n",
    " # if student scored between 50-80, then Mediocre, else weak.\n",
    "\n",
    "def category_delegate(marks):\n",
    "    if marks > 80:\n",
    "        return 'Intelligent'\n",
    "    elif 50 <= marks <= 80:\n",
    "        return 'Mediocre'\n",
    "    else:\n",
    "        return 'Weak'\n",
    "\n",
    "df['IQ_level'] = df['Mark'].apply(category_delegate)\n",
    "print(df.sample(10))"
   ]
  },
  {
   "cell_type": "code",
   "execution_count": null,
   "id": "f8c928c0-72fc-4565-8b68-f3ebc80b88f7",
   "metadata": {},
   "outputs": [],
   "source": []
  },
  {
   "cell_type": "code",
   "execution_count": 20,
   "id": "aafb4272-b1d0-4a00-94ba-def400ebe2eb",
   "metadata": {},
   "outputs": [
    {
     "name": "stdout",
     "output_type": "stream",
     "text": [
      "Series([], dtype: int64)\n",
      "\n",
      "Number of males and females from each city:\n",
      "Empty DataFrame\n",
      "Columns: []\n",
      "Index: []\n"
     ]
    }
   ],
   "source": [
    "# f) Count the number of males and females from each city.\n",
    "\n",
    "gender_counts = df.groupby(['City', 'Gender']).size().unstack(fill_value=0)\n",
    "print(\"\\nNumber of males and females from each city:\")\n",
    "print(gender_counts)"
   ]
  },
  {
   "cell_type": "code",
   "execution_count": 25,
   "id": "21cf13c8-ba0f-4f27-9425-38735e276f82",
   "metadata": {},
   "outputs": [
    {
     "name": "stdout",
     "output_type": "stream",
     "text": [
      "     Student_id   Age Gender      Grade Employed  Mark City IQ_level\n",
      "0             1  19.0   Male  1st Class      yes   NaN  NaN     Weak\n",
      "2             3  18.0   Male  1st Class       no   NaN  NaN     Weak\n",
      "4             5  19.0   Male  1st Class       no   NaN  NaN     Weak\n",
      "5             6  20.0   Male  2nd Class      yes   NaN  NaN     Weak\n",
      "7             8  21.0   Male  3rd Class      yes   NaN  NaN     Weak\n",
      "..          ...   ...    ...        ...      ...   ...  ...      ...\n",
      "224         225  19.0   Male  2nd Class       no   NaN  NaN     Weak\n",
      "226         227  22.0   Male  3rd Class       no   NaN  NaN     Weak\n",
      "228         229  20.0   Male  2nd Class       no   NaN  NaN     Weak\n",
      "229         230  20.0   Male  3rd Class      yes   NaN  NaN     Weak\n",
      "231         232  20.0   Male  3rd Class      yes   NaN  NaN     Weak\n",
      "\n",
      "[136 rows x 8 columns]\n"
     ]
    }
   ],
   "source": [
    "print(df[df['Gender'] == 'Male'])"
   ]
  },
  {
   "cell_type": "code",
   "execution_count": null,
   "id": "2f368231-8750-45be-bde7-d0d48fb784e9",
   "metadata": {},
   "outputs": [],
   "source": []
  },
  {
   "cell_type": "code",
   "execution_count": 27,
   "id": "6bfc4b58-c0b0-490b-82b8-2635b1519c82",
   "metadata": {},
   "outputs": [
    {
     "name": "stdout",
     "output_type": "stream",
     "text": [
      "\n",
      "Top 5 Male scorers\n",
      "   Student_id   Age Gender      Grade Employed  Mark City IQ_level\n",
      "0           1  19.0   Male  1st Class      yes   NaN  NaN     Weak\n",
      "2           3  18.0   Male  1st Class       no   NaN  NaN     Weak\n",
      "4           5  19.0   Male  1st Class       no   NaN  NaN     Weak\n",
      "5           6  20.0   Male  2nd Class      yes   NaN  NaN     Weak\n",
      "7           8  21.0   Male  3rd Class      yes   NaN  NaN     Weak\n"
     ]
    }
   ],
   "source": [
    "#g)\tPrint the top 5 Male scorers.\n",
    "top_male_scorers = df[df['Gender'] == 'Male'].sort_values(by='Mark', ascending=False).head(5)\n",
    "print(\"\\nTop 5 Male scorers\")\n",
    "print(top_male_scorers)"
   ]
  },
  {
   "cell_type": "code",
   "execution_count": null,
   "id": "8ffb3165-bd40-45f7-b31b-63ae0b78da0e",
   "metadata": {},
   "outputs": [],
   "source": []
  },
  {
   "cell_type": "code",
   "execution_count": 33,
   "id": "5bd09988-6a88-468d-a615-923c9f0e689e",
   "metadata": {},
   "outputs": [
    {
     "name": "stdout",
     "output_type": "stream",
     "text": [
      "     Student_id   Age Gender      Grade Employed  Mark    City     IQ_level\n",
      "5             6  20.0      M  2nd Class      yes   NaN     NaN         Weak\n",
      "409         181   NaN    NaN        NaN      NaN  56.0  Mumbai     Mediocre\n",
      "424         196   NaN    NaN        NaN      NaN  74.0  Mumbai     Mediocre\n",
      "390         162   NaN    NaN        NaN      NaN  79.0    Pune     Mediocre\n",
      "401         173   NaN    NaN        NaN      NaN  98.0   Delhi  Intelligent\n",
      "104         105  18.0      F  3rd Class       no   NaN     NaN         Weak\n",
      "165         166  20.0      F  3rd Class      yes   NaN     NaN         Weak\n",
      "250          21   NaN    NaN        NaN      NaN  49.0  Mumbai         Weak\n",
      "16           17  20.0      M  2nd Class      yes   NaN     NaN         Weak\n",
      "334         106   NaN    NaN        NaN      NaN  77.0   Kochi     Mediocre\n"
     ]
    }
   ],
   "source": [
    "# h)Replace the Male value with M and Female value with F\n",
    "# and export this dataframe to excel file in D: (D drive) and name the file as test.csv.\n",
    "output_file_path = r'E:\\IIT_GUWAHATI\\Pandas_Assignment\\test.csv'\n",
    "df['Gender'] = df['Gender'].replace({'Male': 'M', 'Female': 'F'})\n",
    "df.to_csv(output_file_path, index=False)\n",
    "print(df.sample(10))\n"
   ]
  },
  {
   "cell_type": "code",
   "execution_count": null,
   "id": "e77c8407-ae67-4da9-b84e-2ee4681430fe",
   "metadata": {},
   "outputs": [],
   "source": []
  },
  {
   "cell_type": "code",
   "execution_count": 36,
   "id": "f9272988-fa9c-4708-b1fa-6eacbbaa22a0",
   "metadata": {},
   "outputs": [
    {
     "name": "stdout",
     "output_type": "stream",
     "text": [
      "\n",
      " Duplicate student id: True\n"
     ]
    }
   ],
   "source": [
    "# i) Check if any student_ID is duplicated.\n",
    "stu_dup = df['Student_id'].duplicated().any()\n",
    "print(f\"\\n Duplicate student id: {stu_dup}\")\n"
   ]
  },
  {
   "cell_type": "code",
   "execution_count": null,
   "id": "87246227-96e0-46c3-934d-3b8be631484b",
   "metadata": {},
   "outputs": [],
   "source": []
  },
  {
   "cell_type": "code",
   "execution_count": 38,
   "id": "b6b28134-0b8c-496f-8ab7-4aa932b8cfcf",
   "metadata": {},
   "outputs": [
    {
     "name": "stdout",
     "output_type": "stream",
     "text": [
      "\n",
      "DataFrame with Integer and Float variables only:\n",
      "     Student_id   Age  Mark\n",
      "442         214   NaN  54.0\n",
      "433         205   NaN  78.0\n",
      "355         127   NaN  56.0\n",
      "379         151   NaN  78.0\n",
      "219         220  20.0   NaN\n",
      "168         169  22.0   NaN\n",
      "57           58  20.0   NaN\n",
      "208         209  20.0   NaN\n",
      "88           89  20.0   NaN\n",
      "301          73   NaN  89.0\n"
     ]
    }
   ],
   "source": [
    "# j) Create a separate dataframe which will have all the Integer/Float variables.\n",
    "numeric_df = df.select_dtypes(include=['int', 'float'])\n",
    "print(\"\\nDataFrame with Integer and Float variables only:\")\n",
    "print(numeric_df.sample(10))"
   ]
  },
  {
   "cell_type": "code",
   "execution_count": null,
   "id": "8e489d41-5994-42d9-ae21-ce1db18c6263",
   "metadata": {},
   "outputs": [],
   "source": []
  },
  {
   "cell_type": "code",
   "execution_count": null,
   "id": "1a50f7f4-b7d8-4d4b-8293-051ca243a545",
   "metadata": {},
   "outputs": [],
   "source": []
  },
  {
   "cell_type": "code",
   "execution_count": 40,
   "id": "2e5f2500-3b51-4aac-bf44-94f5318e1b3e",
   "metadata": {},
   "outputs": [
    {
     "name": "stdout",
     "output_type": "stream",
     "text": [
      "     Student_id  Age  Gender      Grade Employed  Mark     City _merge\n",
      "129         130   20  Female  3rd Class       no  57.0   Bhopal   both\n",
      "63           64   20    Male  2nd Class      yes  78.0    Delhi   both\n",
      "5             6   20    Male  2nd Class      yes  69.0  Gwalior   both\n",
      "134         135   21    Male  2nd Class      yes  75.0    Kochi   both\n",
      "80           81   21  Female  2nd Class      yes  74.0     Pune   both\n",
      "68           69   20  Female  3rd Class      yes  55.0   Mumbai   both\n",
      "145         146   19    Male  1st Class      yes  98.0   Mumbai   both\n",
      "25           26   20    Male  2nd Class       no  75.0     Pune   both\n",
      "46           47   18  Female  3rd Class       no  46.0   Mumbai   both\n",
      "73           74   19  Female  2nd Class       no  77.0  Chennai   both\n"
     ]
    }
   ],
   "source": [
    "# k)Get those Student_IDs which are present in Students table but not in Marks table.\n",
    "\n",
    "# Using left join on student_id\n",
    "left_merged_df = pd.merge(s_df, m_df, on='Student_id', how='left', indicator=True)\n",
    "print(left_merged_df.sample(10))\n"
   ]
  },
  {
   "cell_type": "code",
   "execution_count": null,
   "id": "9fc44211-a0de-4d38-8791-f110602d28f6",
   "metadata": {},
   "outputs": [],
   "source": []
  },
  {
   "cell_type": "code",
   "execution_count": 41,
   "id": "41ed155d-3cd1-43da-92fc-b2b5d277a484",
   "metadata": {},
   "outputs": [
    {
     "data": {
      "text/plain": [
       "'E:\\\\IIT_GUWAHATI'"
      ]
     },
     "execution_count": 41,
     "metadata": {},
     "output_type": "execute_result"
    }
   ],
   "source": [
    "pwd"
   ]
  },
  {
   "cell_type": "code",
   "execution_count": null,
   "id": "d4c8abcb-1add-44fc-a60f-77bdf2710e82",
   "metadata": {},
   "outputs": [],
   "source": []
  },
  {
   "cell_type": "code",
   "execution_count": null,
   "id": "f6c77806-2d56-49f4-9249-41452eaecf11",
   "metadata": {},
   "outputs": [],
   "source": []
  }
 ],
 "metadata": {
  "kernelspec": {
   "display_name": "Python 3 (ipykernel)",
   "language": "python",
   "name": "python3"
  },
  "language_info": {
   "codemirror_mode": {
    "name": "ipython",
    "version": 3
   },
   "file_extension": ".py",
   "mimetype": "text/x-python",
   "name": "python",
   "nbconvert_exporter": "python",
   "pygments_lexer": "ipython3",
   "version": "3.11.7"
  }
 },
 "nbformat": 4,
 "nbformat_minor": 5
}
