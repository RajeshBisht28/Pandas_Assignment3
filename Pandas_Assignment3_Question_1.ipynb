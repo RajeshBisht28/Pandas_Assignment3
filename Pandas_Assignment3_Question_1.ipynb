{
 "cells": [
  {
   "cell_type": "markdown",
   "id": "54fec139-92b9-4e20-9aff-16c1e0d6e7b4",
   "metadata": {},
   "source": [
    "# 1.\tImport the attached Netflix csv file in Jupyter notebook and perform following operations using Pandas:"
   ]
  },
  {
   "cell_type": "code",
   "execution_count": 80,
   "id": "3bb60690-944a-4142-9525-7132951d4747",
   "metadata": {},
   "outputs": [
    {
     "name": "stdout",
     "output_type": "stream",
     "text": [
      "(8780, 11)\n",
      " Top 5 rows\n",
      "  show_id     type                  title         director  \\\n",
      "0      s1    Movie   Dick Johnson Is Dead  Kirsten Johnson   \n",
      "1      s2  TV Show          Blood & Water              NaN   \n",
      "2      s3  TV Show              Ganglands  Julien Leclercq   \n",
      "3      s4  TV Show  Jailbirds New Orleans              NaN   \n",
      "4      s5  TV Show           Kota Factory              NaN   \n",
      "\n",
      "                                                cast        country  \\\n",
      "0                                                NaN  United States   \n",
      "1  Ama Qamata, Khosi Ngema, Gail Mabalane, Thaban...   South Africa   \n",
      "2  Sami Bouajila, Tracy Gotoas, Samuel Jouy, Nabi...            NaN   \n",
      "3                                                NaN            NaN   \n",
      "4  Mayur More, Jitendra Kumar, Ranjan Raj, Alam K...          India   \n",
      "\n",
      "           date_added  release_year rating   duration  \\\n",
      "0  September 25, 2021          2020  PG-13     90 min   \n",
      "1  September 24, 2021          2021  TV-MA  2 Seasons   \n",
      "2  September 24, 2021          2021  TV-MA   1 Season   \n",
      "3  September 24, 2021          2021  TV-MA   1 Season   \n",
      "4  September 24, 2021          2021  TV-MA  2 Seasons   \n",
      "\n",
      "                                           listed_in  \n",
      "0                                      Documentaries  \n",
      "1    International TV Shows, TV Dramas, TV Mysteries  \n",
      "2  Crime TV Shows, International TV Shows, TV Act...  \n",
      "3                             Docuseries, Reality TV  \n",
      "4  International TV Shows, Romantic TV Shows, TV ...  \n",
      " Last 5 rows\n",
      "     show_id     type        title         director  \\\n",
      "8775   s8803    Movie       Zodiac    David Fincher   \n",
      "8776   s8804  TV Show  Zombie Dumb              NaN   \n",
      "8777   s8805    Movie   Zombieland  Ruben Fleischer   \n",
      "8778   s8806    Movie         Zoom     Peter Hewitt   \n",
      "8779   s8807    Movie       Zubaan      Mozez Singh   \n",
      "\n",
      "                                                   cast        country  \\\n",
      "8775  Mark Ruffalo, Jake Gyllenhaal, Robert Downey J...  United States   \n",
      "8776                                                NaN            NaN   \n",
      "8777  Jesse Eisenberg, Woody Harrelson, Emma Stone, ...  United States   \n",
      "8778  Tim Allen, Courteney Cox, Chevy Chase, Kate Ma...  United States   \n",
      "8779  Vicky Kaushal, Sarah-Jane Dias, Raaghav Chanan...          India   \n",
      "\n",
      "             date_added  release_year rating   duration  \\\n",
      "8775  November 20, 2019          2007      R    158 min   \n",
      "8776       July 1, 2019          2018  TV-Y7  2 Seasons   \n",
      "8777   November 1, 2019          2009      R     88 min   \n",
      "8778   January 11, 2020          2006     PG     88 min   \n",
      "8779      March 2, 2019          2015  TV-14    111 min   \n",
      "\n",
      "                                           listed_in  \n",
      "8775                  Cult Movies, Dramas, Thrillers  \n",
      "8776          Kids' TV, Korean TV Shows, TV Comedies  \n",
      "8777                         Comedies, Horror Movies  \n",
      "8778              Children & Family Movies, Comedies  \n",
      "8779  Dramas, International Movies, Music & Musicals  \n"
     ]
    }
   ],
   "source": [
    "# a)Print the first 5 rows and last 5 rows of the dataframe\n",
    "import pandas as pd\n",
    "file_path =  r'E:\\IIT_GUWAHATI\\Pandas_Assignment\\NetFlix_1.xlsm'\n",
    "df = pd.read_excel(file_path, engine='openpyxl')\n",
    "print(df.shape)\n",
    "dr5 = df.head()\n",
    "dt5 = df.tail()\n",
    "print(\" Top 5 rows\")\n",
    "print(dr5)\n",
    "print(\" Last 5 rows\")\n",
    "print(dt5)\n"
   ]
  },
  {
   "cell_type": "code",
   "execution_count": null,
   "id": "74651a3a-4a5f-47a3-9399-4359fd34afd6",
   "metadata": {},
   "outputs": [],
   "source": []
  },
  {
   "cell_type": "code",
   "execution_count": 81,
   "id": "a4287884-5fe3-4724-a2ab-28bb7a7c32d4",
   "metadata": {},
   "outputs": [
    {
     "name": "stdout",
     "output_type": "stream",
     "text": [
      "Number of row 8780 and number of columns : 11\n"
     ]
    }
   ],
   "source": [
    "# b)\tCheck how many rows and columns are there using Pandas function.\n",
    "rows, cols = df.shape\n",
    "print(f\"Number of row {rows} and number of columns : {cols}\")"
   ]
  },
  {
   "cell_type": "code",
   "execution_count": null,
   "id": "8edf777b-9fe1-4722-9f8a-6086bd1993d5",
   "metadata": {},
   "outputs": [],
   "source": []
  },
  {
   "cell_type": "code",
   "execution_count": 87,
   "id": "44749b22-56f0-4db6-b535-a5ce5284217d",
   "metadata": {},
   "outputs": [
    {
     "name": "stdout",
     "output_type": "stream",
     "text": [
      "Column names:\n",
      "show_id, type, title, director, cast, country, date_added, release_year, rating, duration, listed_in, "
     ]
    }
   ],
   "source": [
    "# c) Print all the column names.\n",
    "print(\"Column names:\")\n",
    "for column in df.columns:\n",
    "    print(column, end=\", \")"
   ]
  },
  {
   "cell_type": "code",
   "execution_count": null,
   "id": "0407604c-bc9a-4cf6-8331-bc21793a40a5",
   "metadata": {},
   "outputs": [],
   "source": []
  },
  {
   "cell_type": "code",
   "execution_count": 88,
   "id": "8d453bf9-551d-4950-abb5-84d06dccf613",
   "metadata": {},
   "outputs": [
    {
     "name": "stdout",
     "output_type": "stream",
     "text": [
      "       show_id   type                 title       director  \\\n",
      "count     8780   8780                  8780           6150   \n",
      "unique    8780      2                  8780           4516   \n",
      "top         s1  Movie  Dick Johnson Is Dead  Rajiv Chilaka   \n",
      "freq         1   6110                     1             19   \n",
      "mean       NaN    NaN                   NaN            NaN   \n",
      "std        NaN    NaN                   NaN            NaN   \n",
      "min        NaN    NaN                   NaN            NaN   \n",
      "25%        NaN    NaN                   NaN            NaN   \n",
      "50%        NaN    NaN                   NaN            NaN   \n",
      "75%        NaN    NaN                   NaN            NaN   \n",
      "max        NaN    NaN                   NaN            NaN   \n",
      "\n",
      "                      cast        country       date_added  release_year  \\\n",
      "count                 7956           7952             8770   8780.000000   \n",
      "unique                7671            745             1765           NaN   \n",
      "top     David Attenborough  United States  January 1, 2020           NaN   \n",
      "freq                    19           2809              108           NaN   \n",
      "mean                   NaN            NaN              NaN   2014.178474   \n",
      "std                    NaN            NaN              NaN      8.827938   \n",
      "min                    NaN            NaN              NaN   1925.000000   \n",
      "25%                    NaN            NaN              NaN   2013.000000   \n",
      "50%                    NaN            NaN              NaN   2017.000000   \n",
      "75%                    NaN            NaN              NaN   2019.000000   \n",
      "max                    NaN            NaN              NaN   2021.000000   \n",
      "\n",
      "       rating  duration                     listed_in  \n",
      "count    8776      8780                          8780  \n",
      "unique     14       220                           514  \n",
      "top     TV-MA  1 Season  Dramas, International Movies  \n",
      "freq     3198      1788                           361  \n",
      "mean      NaN       NaN                           NaN  \n",
      "std       NaN       NaN                           NaN  \n",
      "min       NaN       NaN                           NaN  \n",
      "25%       NaN       NaN                           NaN  \n",
      "50%       NaN       NaN                           NaN  \n",
      "75%       NaN       NaN                           NaN  \n",
      "max       NaN       NaN                           NaN  \n"
     ]
    }
   ],
   "source": [
    "# d)\tCalculate the descriptive statistics of all the variables(integer/float/object etc).\n",
    "df_stat = df.describe(include='all')\n",
    "print(df_stat)\n"
   ]
  },
  {
   "cell_type": "code",
   "execution_count": null,
   "id": "5eb0f4cf-33eb-4428-bd64-2b676889ab81",
   "metadata": {},
   "outputs": [],
   "source": []
  },
  {
   "cell_type": "code",
   "execution_count": 89,
   "id": "53d16174-760a-4ccf-98b5-b5d6a76dab25",
   "metadata": {},
   "outputs": [
    {
     "name": "stdout",
     "output_type": "stream",
     "text": [
      "Number of unique values for each column:\n",
      "show_id         8780\n",
      "type               2\n",
      "title           8780\n",
      "director        4516\n",
      "cast            7671\n",
      "country          745\n",
      "date_added      1765\n",
      "release_year      74\n",
      "rating            14\n",
      "duration         220\n",
      "listed_in        514\n",
      "dtype: int64\n"
     ]
    }
   ],
   "source": [
    "# e)\tCheck the number of unique values for each column.\n",
    "uni_val = df.nunique()\n",
    "print(\"Number of unique values for each column:\")\n",
    "print(uni_val)"
   ]
  },
  {
   "cell_type": "code",
   "execution_count": null,
   "id": "a4f61aeb-b0ca-4b8d-b306-9f82de2f07eb",
   "metadata": {},
   "outputs": [],
   "source": []
  },
  {
   "cell_type": "code",
   "execution_count": 90,
   "id": "396c24bf-9b2e-4de6-a9f4-383e246a035c",
   "metadata": {},
   "outputs": [
    {
     "name": "stdout",
     "output_type": "stream",
     "text": [
      "Percentage of missing values for each column:\n",
      "show_id          0.000000\n",
      "type             0.000000\n",
      "title            0.000000\n",
      "director        29.954442\n",
      "cast             9.384966\n",
      "country          9.430524\n",
      "date_added       0.113895\n",
      "release_year     0.000000\n",
      "rating           0.045558\n",
      "duration         0.000000\n",
      "listed_in        0.000000\n",
      "dtype: float64\n"
     ]
    }
   ],
   "source": [
    "#f)\tCheck the percentage of missing values for each column.\n",
    "print(\"Percentage of missing values for each column:\")\n",
    "miss_vals = df.isnull().mean() * 100\n",
    "print(miss_vals)"
   ]
  },
  {
   "cell_type": "code",
   "execution_count": null,
   "id": "fd030321-9c20-43dc-976e-d5fb451f8516",
   "metadata": {},
   "outputs": [],
   "source": []
  },
  {
   "cell_type": "code",
   "execution_count": 91,
   "id": "79e4a2fb-addc-4256-9a69-474a56ff4d66",
   "metadata": {},
   "outputs": [
    {
     "name": "stdout",
     "output_type": "stream",
     "text": [
      "     show_id     type                  title         director  \\\n",
      "0         s1    Movie   Dick Johnson Is Dead  Kirsten Johnson   \n",
      "1         s2  TV Show          Blood & Water              NaN   \n",
      "2         s3  TV Show              Ganglands  Julien Leclercq   \n",
      "3         s4  TV Show  Jailbirds New Orleans              NaN   \n",
      "4         s5  TV Show           Kota Factory              NaN   \n",
      "...      ...      ...                    ...              ...   \n",
      "8775   s8803    Movie                 Zodiac    David Fincher   \n",
      "8776   s8804  TV Show            Zombie Dumb              NaN   \n",
      "8777   s8805    Movie             Zombieland  Ruben Fleischer   \n",
      "8778   s8806    Movie                   Zoom     Peter Hewitt   \n",
      "8779   s8807    Movie                 Zubaan      Mozez Singh   \n",
      "\n",
      "                                                   cast        country  \\\n",
      "0                                                   NaN  United States   \n",
      "1     Ama Qamata, Khosi Ngema, Gail Mabalane, Thaban...   South Africa   \n",
      "2     Sami Bouajila, Tracy Gotoas, Samuel Jouy, Nabi...            NaN   \n",
      "3                                                   NaN            NaN   \n",
      "4     Mayur More, Jitendra Kumar, Ranjan Raj, Alam K...          India   \n",
      "...                                                 ...            ...   \n",
      "8775  Mark Ruffalo, Jake Gyllenhaal, Robert Downey J...  United States   \n",
      "8776                                                NaN            NaN   \n",
      "8777  Jesse Eisenberg, Woody Harrelson, Emma Stone, ...  United States   \n",
      "8778  Tim Allen, Courteney Cox, Chevy Chase, Kate Ma...  United States   \n",
      "8779  Vicky Kaushal, Sarah-Jane Dias, Raaghav Chanan...          India   \n",
      "\n",
      "              date_added  release_year rating   duration  \\\n",
      "0     September 25, 2021          2020  PG-13     90 min   \n",
      "1     September 24, 2021          2021  TV-MA  2 Seasons   \n",
      "2     September 24, 2021          2021  TV-MA   1 Season   \n",
      "3     September 24, 2021          2021  TV-MA   1 Season   \n",
      "4     September 24, 2021          2021  TV-MA  2 Seasons   \n",
      "...                  ...           ...    ...        ...   \n",
      "8775   November 20, 2019          2007      R    158 min   \n",
      "8776        July 1, 2019          2018  TV-Y7  2 Seasons   \n",
      "8777    November 1, 2019          2009      R     88 min   \n",
      "8778    January 11, 2020          2006     PG     88 min   \n",
      "8779       March 2, 2019          2015  TV-14    111 min   \n",
      "\n",
      "                                              listed_in  \n",
      "0                                         Documentaries  \n",
      "1       International TV Shows, TV Dramas, TV Mysteries  \n",
      "2     Crime TV Shows, International TV Shows, TV Act...  \n",
      "3                                Docuseries, Reality TV  \n",
      "4     International TV Shows, Romantic TV Shows, TV ...  \n",
      "...                                                 ...  \n",
      "8775                     Cult Movies, Dramas, Thrillers  \n",
      "8776             Kids' TV, Korean TV Shows, TV Comedies  \n",
      "8777                            Comedies, Horror Movies  \n",
      "8778                 Children & Family Movies, Comedies  \n",
      "8779     Dramas, International Movies, Music & Musicals  \n",
      "\n",
      "[8780 rows x 11 columns]\n"
     ]
    }
   ],
   "source": [
    "# g) Delete all the rows where Director column has missing values.\n",
    "if 'director' in df.columns:\n",
    "    df.dropna(subset=['director'], how='all')    \n",
    "else:\n",
    "    print(\"Director column not exist.\")\n",
    "\n",
    "print(df)"
   ]
  },
  {
   "cell_type": "code",
   "execution_count": null,
   "id": "379f9fba-cfc7-4d42-a752-727395cc00d9",
   "metadata": {},
   "outputs": [],
   "source": []
  },
  {
   "cell_type": "code",
   "execution_count": null,
   "id": "daf4c8b3-d74a-4776-af9d-7003c5a43246",
   "metadata": {},
   "outputs": [],
   "source": [
    "#h)\tPrint all the records where country has Germany value (including West Germany). \n",
    "# If any other country is there along with Germany, \n",
    "# then that row should also come in output."
   ]
  },
  {
   "cell_type": "code",
   "execution_count": 101,
   "id": "235f2adc-f3f1-4d8c-8d01-7a14eb68f80d",
   "metadata": {},
   "outputs": [
    {
     "name": "stdout",
     "output_type": "stream",
     "text": [
      "Country column includes Germany\n",
      "     show_id   type                                title  \\\n",
      "7         s8  Movie                              Sankofa   \n",
      "12       s13  Movie                         Je Suis Karl   \n",
      "129     s130  Movie                   An Unfinished Life   \n",
      "142     s143  Movie                      Freedom Writers   \n",
      "172     s173  Movie                       School of Rock   \n",
      "...      ...    ...                                  ...   \n",
      "8590   s8618  Movie                                Trash   \n",
      "8634   s8662  Movie                      Unfinished Song   \n",
      "8641   s8669  Movie                       V for Vendetta   \n",
      "8702   s8730  Movie                   Where the Money Is   \n",
      "8718   s8746  Movie  Willy Wonka & the Chocolate Factory   \n",
      "\n",
      "                  director                                               cast  \\\n",
      "7             Haile Gerima  Kofi Ghanaba, Oyafunmike Ogunlano, Alexandra D...   \n",
      "12     Christian Schwochow  Luna Wedler, Jannis NiewÃ¶hner, Milan Peschel,...   \n",
      "129       Lasse HallstrÃ¶m  Robert Redford, Jennifer Lopez, Morgan Freeman...   \n",
      "142    Richard LaGravenese  Hilary Swank, Patrick Dempsey, Scott Glenn, Im...   \n",
      "172      Richard Linklater  Jack Black, Joan Cusack, Mike White, Sarah Sil...   \n",
      "...                    ...                                                ...   \n",
      "8590        Stephen Daldry  Wagner Moura, Martin Sheen, Rooney Mara, Selto...   \n",
      "8634  Paul Andrew Williams  Terence Stamp, Gemma Arterton, Christopher Ecc...   \n",
      "8641        James McTeigue  Natalie Portman, Hugo Weaving, Stephen Rea, St...   \n",
      "8702       Marek Kanievska  Paul Newman, Linda Fiorentino, Dermot Mulroney...   \n",
      "8718            Mel Stuart  Gene Wilder, Jack Albertson, Peter Ostrum, Roy...   \n",
      "\n",
      "                                                country date_added  \\\n",
      "7     United States, Ghana, Burkina Faso, United Kin... 2021-09-24   \n",
      "12                              Germany, Czech Republic 2021-09-23   \n",
      "129                              Germany, United States 2021-09-01   \n",
      "142                              Germany, United States 2021-09-01   \n",
      "172                              United States, Germany 2021-09-01   \n",
      "...                                                 ...        ...   \n",
      "8590                    United Kingdom, Brazil, Germany 2019-01-01   \n",
      "8634                            United Kingdom, Germany 2019-07-22   \n",
      "8641             United States, United Kingdom, Germany 2018-10-01   \n",
      "8702     Germany, United States, United Kingdom, Canada 2020-01-15   \n",
      "8718          United States, East Germany, West Germany 2020-01-01   \n",
      "\n",
      "      release_year rating duration  \\\n",
      "7             1993  TV-MA  125 min   \n",
      "12            2021  TV-MA  127 min   \n",
      "129           2005  PG-13  108 min   \n",
      "142           2007  PG-13  124 min   \n",
      "172           2003  PG-13  110 min   \n",
      "...            ...    ...      ...   \n",
      "8590          2014      R  114 min   \n",
      "8634          2012  PG-13   94 min   \n",
      "8641          2005      R  132 min   \n",
      "8702          2000  PG-13   89 min   \n",
      "8718          1971      G  100 min   \n",
      "\n",
      "                                              listed_in  Duration_Value  \\\n",
      "7      Dramas, Independent Movies, International Movies             125   \n",
      "12                         Dramas, International Movies             127   \n",
      "129                                              Dramas             108   \n",
      "142                                              Dramas             124   \n",
      "172                          Comedies, Music & Musicals             110   \n",
      "...                                                 ...             ...   \n",
      "8590              Dramas, Independent Movies, Thrillers             114   \n",
      "8634               Comedies, Dramas, Independent Movies              94   \n",
      "8641       Action & Adventure, Dramas, Sci-Fi & Fantasy             132   \n",
      "8702               Action & Adventure, Comedies, Dramas              89   \n",
      "8718  Children & Family Movies, Classic Movies, Come...             100   \n",
      "\n",
      "     Duration_Unit  Day  Month  Year  \n",
      "7              min   24      9  2021  \n",
      "12             min   23      9  2021  \n",
      "129            min    1      9  2021  \n",
      "142            min    1      9  2021  \n",
      "172            min    1      9  2021  \n",
      "...            ...  ...    ...   ...  \n",
      "8590           min    1      1  2019  \n",
      "8634           min   22      7  2019  \n",
      "8641           min    1     10  2018  \n",
      "8702           min   15      1  2020  \n",
      "8718           min    1      1  2020  \n",
      "\n",
      "[231 rows x 16 columns]\n"
     ]
    }
   ],
   "source": [
    "df.columns\n",
    "if 'country' in df.columns:\n",
    "    # Filter rows:  'country' includes 'Germany' or 'West Germany'\n",
    "    gemany_df = df[df['country'].str.contains('Germany', case=False, na=False)]\n",
    "    print(\"Country column includes Germany\")\n",
    "    print(gemany_df)\n",
    "else:\n",
    "    print(\"The column 'country' does not exist in the DataFrame.\")\n"
   ]
  },
  {
   "cell_type": "code",
   "execution_count": 44,
   "id": "5a415477-036c-4cbb-99d6-b09d2f0d9fef",
   "metadata": {},
   "outputs": [],
   "source": []
  },
  {
   "cell_type": "code",
   "execution_count": 98,
   "id": "38728531-e8a4-4205-8314-c3cf1f5ee058",
   "metadata": {},
   "outputs": [
    {
     "name": "stdout",
     "output_type": "stream",
     "text": [
      "  show_id     type                  title         director  \\\n",
      "0      s1    Movie   Dick Johnson Is Dead  Kirsten Johnson   \n",
      "1      s2  TV Show          Blood & Water              NaN   \n",
      "2      s3  TV Show              Ganglands  Julien Leclercq   \n",
      "3      s4  TV Show  Jailbirds New Orleans              NaN   \n",
      "4      s5  TV Show           Kota Factory              NaN   \n",
      "\n",
      "                                                cast        country  \\\n",
      "0                                                NaN  United States   \n",
      "1  Ama Qamata, Khosi Ngema, Gail Mabalane, Thaban...   South Africa   \n",
      "2  Sami Bouajila, Tracy Gotoas, Samuel Jouy, Nabi...            NaN   \n",
      "3                                                NaN            NaN   \n",
      "4  Mayur More, Jitendra Kumar, Ranjan Raj, Alam K...          India   \n",
      "\n",
      "           date_added  release_year rating   duration  \\\n",
      "0  September 25, 2021          2020  PG-13     90 min   \n",
      "1  September 24, 2021          2021  TV-MA  2 Seasons   \n",
      "2  September 24, 2021          2021  TV-MA   1 Season   \n",
      "3  September 24, 2021          2021  TV-MA   1 Season   \n",
      "4  September 24, 2021          2021  TV-MA  2 Seasons   \n",
      "\n",
      "                                           listed_in  Duration_Value  \\\n",
      "0                                      Documentaries              90   \n",
      "1    International TV Shows, TV Dramas, TV Mysteries               2   \n",
      "2  Crime TV Shows, International TV Shows, TV Act...               1   \n",
      "3                             Docuseries, Reality TV               1   \n",
      "4  International TV Shows, Romantic TV Shows, TV ...               2   \n",
      "\n",
      "  Duration_Unit  \n",
      "0           min  \n",
      "1       Seasons  \n",
      "2        Season  \n",
      "3        Season  \n",
      "4       Seasons  \n"
     ]
    }
   ],
   "source": [
    "# i) Expand Duration column into 2 separate columns – First column having the numeric value \n",
    "#   and other having String. # Eg: 3 seasons should be split in 2 columns \n",
    "#  having 3 in 1st column and seasons in 2nd column.\n",
    "\n",
    "if 'duration' in df.columns:    \n",
    "    df[['Duration_Value', 'Duration_Unit']] = df['duration'].str.extract(r'(\\d+)\\s*(.*)')\n",
    "    df['Duration_Value'] = pd.to_numeric(df['Duration_Value'])\n",
    "    print(df.head())\n",
    "else:\n",
    "    print(\"The column 'Duration' does not exist.\")\n"
   ]
  },
  {
   "cell_type": "code",
   "execution_count": 102,
   "id": "fe7733fe-a549-4702-a933-b946ed941c9d",
   "metadata": {},
   "outputs": [
    {
     "data": {
      "text/plain": [
       "Index(['show_id', 'type', 'title', 'director', 'cast', 'country', 'date_added',\n",
       "       'release_year', 'rating', 'duration', 'listed_in', 'Duration_Value',\n",
       "       'Duration_Unit', 'Day', 'Month', 'Year'],\n",
       "      dtype='object')"
      ]
     },
     "execution_count": 102,
     "metadata": {},
     "output_type": "execute_result"
    }
   ],
   "source": [
    "df.columns"
   ]
  },
  {
   "cell_type": "code",
   "execution_count": 108,
   "id": "ae1471cc-9793-4c2e-ac5e-2c01d79f5290",
   "metadata": {},
   "outputs": [
    {
     "name": "stdout",
     "output_type": "stream",
     "text": [
      "DataFrame with 'date_added' split into three columns:\n",
      "  date_added  Day  Month  Year\n",
      "0 2021-09-25   25      9  2021\n",
      "1 2021-09-24   24      9  2021\n",
      "2 2021-09-24   24      9  2021\n",
      "3 2021-09-24   24      9  2021\n",
      "4 2021-09-24   24      9  2021\n"
     ]
    }
   ],
   "source": [
    "#j)\tSplit Date added into 3 separate columns having  \n",
    "# date value in 1st column, month value in 2nd column \n",
    "# and year value in 3rd.\n",
    "\n",
    "if 'date_added' in df.columns:\n",
    "    df['date_added'] = pd.to_datetime(df['date_added'], errors='coerce')\n",
    "    df['Day'] = df['date_added'].dt.day.astype(pd.Int64Dtype())\n",
    "    df['Month'] = df['date_added'].dt.month.astype(pd.Int64Dtype())\n",
    "    df['Year'] = df['date_added'].dt.year.astype(pd.Int64Dtype())\n",
    "    print(\"DataFrame with 'date_added' split into three columns:\")\n",
    "    print(df[['date_added', 'Day', 'Month', 'Year']].head())\n",
    "else:\n",
    "    print(\"The column 'date_added' does not exist in the DataFrame.\")\n"
   ]
  },
  {
   "cell_type": "code",
   "execution_count": null,
   "id": "a93af02a-3d0b-4076-930c-ca7087bc7bf2",
   "metadata": {},
   "outputs": [],
   "source": []
  },
  {
   "cell_type": "code",
   "execution_count": 109,
   "id": "31457677-cf35-462e-945b-290005a411f2",
   "metadata": {},
   "outputs": [
    {
     "name": "stdout",
     "output_type": "stream",
     "text": [
      "type  Movie  TV Show\n",
      "Year                \n",
      "2008      1        1\n",
      "2009      2        0\n",
      "2010      1        0\n",
      "2011     13        0\n",
      "2012      3        0\n",
      "2013      6        4\n",
      "2014     19        4\n",
      "2015     56       17\n",
      "2016    250      165\n",
      "2017    835      324\n",
      "2018   1234      387\n",
      "2019   1418      572\n",
      "2020   1281      593\n",
      "2021    991      505\n"
     ]
    }
   ],
   "source": [
    "# k) Print the number of TV shows/Movies released in each year.\n",
    "\n",
    "# Year : column added in previously. using split of Date\n",
    "\n",
    "if set(['Year','type']).issubset(df.columns):\n",
    "   filtered_df = df[df['type'].isin(['Movie', 'TV Show'])]\n",
    "   r_counts = filtered_df.groupby(['Year', 'type']).size().unstack(fill_value=0)\n",
    "print(r_counts)"
   ]
  },
  {
   "cell_type": "code",
   "execution_count": null,
   "id": "3803edfd-09e0-4084-8b1b-0ca330ca175b",
   "metadata": {},
   "outputs": [],
   "source": []
  },
  {
   "cell_type": "code",
   "execution_count": 110,
   "id": "c3b5bec0-b037-425b-aa59-6b3ada2bcf04",
   "metadata": {},
   "outputs": [
    {
     "name": "stdout",
     "output_type": "stream",
     "text": [
      "  show_id     type            movie_title         director  \\\n",
      "0      s1    Movie   Dick Johnson Is Dead  Kirsten Johnson   \n",
      "1      s2  TV Show          Blood & Water              NaN   \n",
      "2      s3  TV Show              Ganglands  Julien Leclercq   \n",
      "3      s4  TV Show  Jailbirds New Orleans              NaN   \n",
      "4      s5  TV Show           Kota Factory              NaN   \n",
      "\n",
      "                                                cast        country  \\\n",
      "0                                                NaN  United States   \n",
      "1  Ama Qamata, Khosi Ngema, Gail Mabalane, Thaban...   South Africa   \n",
      "2  Sami Bouajila, Tracy Gotoas, Samuel Jouy, Nabi...            NaN   \n",
      "3                                                NaN            NaN   \n",
      "4  Mayur More, Jitendra Kumar, Ranjan Raj, Alam K...          India   \n",
      "\n",
      "  date_added  release_year rating   duration  \\\n",
      "0 2021-09-25          2020  PG-13     90 min   \n",
      "1 2021-09-24          2021  TV-MA  2 Seasons   \n",
      "2 2021-09-24          2021  TV-MA   1 Season   \n",
      "3 2021-09-24          2021  TV-MA   1 Season   \n",
      "4 2021-09-24          2021  TV-MA  2 Seasons   \n",
      "\n",
      "                                           listed_in  Duration_Value  \\\n",
      "0                                      Documentaries              90   \n",
      "1    International TV Shows, TV Dramas, TV Mysteries               2   \n",
      "2  Crime TV Shows, International TV Shows, TV Act...               1   \n",
      "3                             Docuseries, Reality TV               1   \n",
      "4  International TV Shows, Romantic TV Shows, TV ...               2   \n",
      "\n",
      "  Duration_Unit  Day  Month  Year  \n",
      "0           min   25      9  2021  \n",
      "1       Seasons   24      9  2021  \n",
      "2        Season   24      9  2021  \n",
      "3        Season   24      9  2021  \n",
      "4       Seasons   24      9  2021  \n"
     ]
    }
   ],
   "source": [
    "# l) Rename the column title with movie_title.\n",
    "if 'title' in df.columns:\n",
    "    df = df.rename(columns={'title': 'movie_title'})\n",
    "print(df.head())\n"
   ]
  },
  {
   "cell_type": "code",
   "execution_count": null,
   "id": "f493ea61-3b79-45f6-ba1b-fd0358988def",
   "metadata": {},
   "outputs": [],
   "source": []
  },
  {
   "cell_type": "code",
   "execution_count": 111,
   "id": "1a5970e9-0ec0-480c-bf09-44524b3ddaa4",
   "metadata": {},
   "outputs": [
    {
     "name": "stdout",
     "output_type": "stream",
     "text": [
      "Before split listed_by column:\n",
      "Index(['show_id', 'type', 'movie_title', 'director', 'cast', 'country',\n",
      "       'date_added', 'release_year', 'rating', 'duration', 'listed_in',\n",
      "       'Duration_Value', 'Duration_Unit', 'Day', 'Month', 'Year'],\n",
      "      dtype='object')\n",
      "\n",
      " After split listed_by column:\n",
      "Index(['show_id', 'type', 'movie_title', 'director', 'cast', 'country',\n",
      "       'date_added', 'release_year', 'rating', 'duration', 'listed_in',\n",
      "       'Duration_Value', 'Duration_Unit', 'Day', 'Month', 'Year', 'Genre1',\n",
      "       'Genre2', 'Genre3'],\n",
      "      dtype='object')\n"
     ]
    }
   ],
   "source": [
    "# m)\tSplit Listed_in column into 3 different columns \n",
    "# with col name (Genre1, Genre2, Genre3). Split the column based on comma.\n",
    "print(\"Before split listed_by column:\")\n",
    "print(df.columns)\n",
    "if 'listed_in' in df.columns:\n",
    "    gen_column = df['listed_in'].str.split(', ', expand=True)\n",
    "    gen_column.columns = ['Genre1', 'Genre2', 'Genre3']\n",
    "    df = pd.concat([df, gen_column], axis=1)\n",
    "print(\"\\n After split listed_by column:\")\n",
    "print(df.columns)"
   ]
  },
  {
   "cell_type": "code",
   "execution_count": null,
   "id": "4ae0bee2-0d15-4fd5-b38c-da1c930f234a",
   "metadata": {},
   "outputs": [],
   "source": []
  },
  {
   "cell_type": "code",
   "execution_count": null,
   "id": "739a6013-3e8e-4405-a789-fb839a62e829",
   "metadata": {},
   "outputs": [],
   "source": []
  },
  {
   "cell_type": "code",
   "execution_count": null,
   "id": "ecf549f7-f91d-424f-92e1-cd34b6794373",
   "metadata": {},
   "outputs": [],
   "source": []
  }
 ],
 "metadata": {
  "kernelspec": {
   "display_name": "Python 3 (ipykernel)",
   "language": "python",
   "name": "python3"
  },
  "language_info": {
   "codemirror_mode": {
    "name": "ipython",
    "version": 3
   },
   "file_extension": ".py",
   "mimetype": "text/x-python",
   "name": "python",
   "nbconvert_exporter": "python",
   "pygments_lexer": "ipython3",
   "version": "3.11.7"
  }
 },
 "nbformat": 4,
 "nbformat_minor": 5
}
